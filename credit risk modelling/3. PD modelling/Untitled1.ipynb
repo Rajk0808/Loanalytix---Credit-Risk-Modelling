{
 "cells": [
  {
   "cell_type": "code",
   "execution_count": 29,
   "id": "cc53b8b2-c417-4ad2-8a52-dc2d0016f833",
   "metadata": {},
   "outputs": [],
   "source": [
    "import pandas as pd"
   ]
  },
  {
   "cell_type": "code",
   "execution_count": 30,
   "id": "2039a637-de68-4110-b863-1a91c224096b",
   "metadata": {},
   "outputs": [],
   "source": [
    "data = pd.read_excel('list_of_reference_catrgories.xlsx')"
   ]
  },
  {
   "cell_type": "code",
   "execution_count": 31,
   "id": "817acd72-23ca-4d8a-9da1-87fa8820d68e",
   "metadata": {},
   "outputs": [
    {
     "data": {
      "text/html": [
       "<div>\n",
       "<style scoped>\n",
       "    .dataframe tbody tr th:only-of-type {\n",
       "        vertical-align: middle;\n",
       "    }\n",
       "\n",
       "    .dataframe tbody tr th {\n",
       "        vertical-align: top;\n",
       "    }\n",
       "\n",
       "    .dataframe thead th {\n",
       "        text-align: right;\n",
       "    }\n",
       "</style>\n",
       "<table border=\"1\" class=\"dataframe\">\n",
       "  <thead>\n",
       "    <tr style=\"text-align: right;\">\n",
       "      <th></th>\n",
       "      <th>grade:G</th>\n",
       "    </tr>\n",
       "  </thead>\n",
       "  <tbody>\n",
       "    <tr>\n",
       "      <th>0</th>\n",
       "      <td>home_ownership:RENT_OTHER_NONE_ANY</td>\n",
       "    </tr>\n",
       "    <tr>\n",
       "      <th>1</th>\n",
       "      <td>addr_state:ND_NE_IA_NV_FL_HI_AL</td>\n",
       "    </tr>\n",
       "    <tr>\n",
       "      <th>2</th>\n",
       "      <td>sub_grade:F5_G1_G3_G5_F4_G4_F3_G2</td>\n",
       "    </tr>\n",
       "    <tr>\n",
       "      <th>3</th>\n",
       "      <td>purpose:small_business_educational</td>\n",
       "    </tr>\n",
       "    <tr>\n",
       "      <th>4</th>\n",
       "      <td>verification_status:Verified</td>\n",
       "    </tr>\n",
       "    <tr>\n",
       "      <th>5</th>\n",
       "      <td>term:36</td>\n",
       "    </tr>\n",
       "    <tr>\n",
       "      <th>6</th>\n",
       "      <td>emp_length:0</td>\n",
       "    </tr>\n",
       "    <tr>\n",
       "      <th>7</th>\n",
       "      <td>mnths_since_issue_d:&lt;38</td>\n",
       "    </tr>\n",
       "    <tr>\n",
       "      <th>8</th>\n",
       "      <td>int_rate:&lt;9.548</td>\n",
       "    </tr>\n",
       "    <tr>\n",
       "      <th>9</th>\n",
       "      <td>annual_inc:&lt;20k</td>\n",
       "    </tr>\n",
       "    <tr>\n",
       "      <th>10</th>\n",
       "      <td>mths_since_last_delinq:Missing</td>\n",
       "    </tr>\n",
       "  </tbody>\n",
       "</table>\n",
       "</div>"
      ],
      "text/plain": [
       "                               grade:G\n",
       "0   home_ownership:RENT_OTHER_NONE_ANY\n",
       "1      addr_state:ND_NE_IA_NV_FL_HI_AL\n",
       "2    sub_grade:F5_G1_G3_G5_F4_G4_F3_G2\n",
       "3   purpose:small_business_educational\n",
       "4         verification_status:Verified\n",
       "5                              term:36\n",
       "6                         emp_length:0\n",
       "7              mnths_since_issue_d:<38\n",
       "8                      int_rate:<9.548\n",
       "9                      annual_inc:<20k\n",
       "10      mths_since_last_delinq:Missing"
      ]
     },
     "execution_count": 31,
     "metadata": {},
     "output_type": "execute_result"
    }
   ],
   "source": [
    "data"
   ]
  },
  {
   "cell_type": "code",
   "execution_count": 33,
   "id": "33aad40a-c6c0-40e4-b0c2-3b4c78df482f",
   "metadata": {},
   "outputs": [],
   "source": [
    "data['grade:G'] = data['grade:G'].astype(str)"
   ]
  },
  {
   "cell_type": "code",
   "execution_count": 34,
   "id": "35d0b623-05bf-4262-a668-b7353dff34c8",
   "metadata": {},
   "outputs": [],
   "source": [
    "data['grade:G'] = \"'\" + data['grade:G'] + \"',\""
   ]
  },
  {
   "cell_type": "code",
   "execution_count": 35,
   "id": "e9192363-db12-44de-8263-73fb47341a0c",
   "metadata": {},
   "outputs": [
    {
     "data": {
      "text/html": [
       "<div>\n",
       "<style scoped>\n",
       "    .dataframe tbody tr th:only-of-type {\n",
       "        vertical-align: middle;\n",
       "    }\n",
       "\n",
       "    .dataframe tbody tr th {\n",
       "        vertical-align: top;\n",
       "    }\n",
       "\n",
       "    .dataframe thead th {\n",
       "        text-align: right;\n",
       "    }\n",
       "</style>\n",
       "<table border=\"1\" class=\"dataframe\">\n",
       "  <thead>\n",
       "    <tr style=\"text-align: right;\">\n",
       "      <th></th>\n",
       "      <th>grade:G</th>\n",
       "    </tr>\n",
       "  </thead>\n",
       "  <tbody>\n",
       "    <tr>\n",
       "      <th>0</th>\n",
       "      <td>'home_ownership:RENT_OTHER_NONE_ANY',</td>\n",
       "    </tr>\n",
       "    <tr>\n",
       "      <th>1</th>\n",
       "      <td>'addr_state:ND_NE_IA_NV_FL_HI_AL',</td>\n",
       "    </tr>\n",
       "    <tr>\n",
       "      <th>2</th>\n",
       "      <td>'sub_grade:F5_G1_G3_G5_F4_G4_F3_G2',</td>\n",
       "    </tr>\n",
       "    <tr>\n",
       "      <th>3</th>\n",
       "      <td>'purpose:small_business_educational',</td>\n",
       "    </tr>\n",
       "    <tr>\n",
       "      <th>4</th>\n",
       "      <td>'verification_status:Verified',</td>\n",
       "    </tr>\n",
       "    <tr>\n",
       "      <th>5</th>\n",
       "      <td>'term:36',</td>\n",
       "    </tr>\n",
       "    <tr>\n",
       "      <th>6</th>\n",
       "      <td>'emp_length:0',</td>\n",
       "    </tr>\n",
       "    <tr>\n",
       "      <th>7</th>\n",
       "      <td>'mnths_since_issue_d:&lt;38',</td>\n",
       "    </tr>\n",
       "    <tr>\n",
       "      <th>8</th>\n",
       "      <td>'int_rate:&lt;9.548',</td>\n",
       "    </tr>\n",
       "    <tr>\n",
       "      <th>9</th>\n",
       "      <td>'annual_inc:&lt;20k',</td>\n",
       "    </tr>\n",
       "    <tr>\n",
       "      <th>10</th>\n",
       "      <td>'mths_since_last_delinq:Missing',</td>\n",
       "    </tr>\n",
       "  </tbody>\n",
       "</table>\n",
       "</div>"
      ],
      "text/plain": [
       "                                  grade:G\n",
       "0   'home_ownership:RENT_OTHER_NONE_ANY',\n",
       "1      'addr_state:ND_NE_IA_NV_FL_HI_AL',\n",
       "2    'sub_grade:F5_G1_G3_G5_F4_G4_F3_G2',\n",
       "3   'purpose:small_business_educational',\n",
       "4         'verification_status:Verified',\n",
       "5                              'term:36',\n",
       "6                         'emp_length:0',\n",
       "7              'mnths_since_issue_d:<38',\n",
       "8                      'int_rate:<9.548',\n",
       "9                      'annual_inc:<20k',\n",
       "10      'mths_since_last_delinq:Missing',"
      ]
     },
     "execution_count": 35,
     "metadata": {},
     "output_type": "execute_result"
    }
   ],
   "source": [
    "data"
   ]
  },
  {
   "cell_type": "code",
   "execution_count": 36,
   "id": "38c1878b-bb17-4b9e-af75-95e08d4c2a59",
   "metadata": {},
   "outputs": [],
   "source": [
    "data.to_csv('list_of_reference_catrgories.csv', index = False)"
   ]
  }
 ],
 "metadata": {
  "kernelspec": {
   "display_name": "Python (tf-env)",
   "language": "python",
   "name": "tf-env"
  },
  "language_info": {
   "codemirror_mode": {
    "name": "ipython",
    "version": 3
   },
   "file_extension": ".py",
   "mimetype": "text/x-python",
   "name": "python",
   "nbconvert_exporter": "python",
   "pygments_lexer": "ipython3",
   "version": "3.10.13"
  }
 },
 "nbformat": 4,
 "nbformat_minor": 5
}
